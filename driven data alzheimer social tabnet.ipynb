{
 "cells": [
  {
   "cell_type": "markdown",
   "id": "b2e33fcc",
   "metadata": {
    "papermill": {
     "duration": 0.005508,
     "end_time": "2024-11-29T22:07:46.274391",
     "exception": false,
     "start_time": "2024-11-29T22:07:46.268883",
     "status": "completed"
    },
    "tags": []
   },
   "source": [
    "# Early prediction of Alzheimer's disease and related dementias based on social determinants using TabNet\n",
    "In this Jupyter Notebook we use social determinants to estimate a composite score, which is associated with Alzheimer's disease and related dementias. We use TabNet [1] to estimate the composite score, where higher score is better, and the maximum possible score is 384. TabNet is a transformer-based neural network tailor made for regression/classification based on tabular data. The data set have a lot of missing values. We use simple imputations using the mean for numerical variables and the most frequent for categorical variables. \n",
    "tart!"
   ]
  },
  {
   "cell_type": "markdown",
   "id": "0f3b129d",
   "metadata": {
    "papermill": {
     "duration": 0.005729,
     "end_time": "2024-11-29T22:07:46.284917",
     "exception": false,
     "start_time": "2024-11-29T22:07:46.279188",
     "status": "completed"
    },
    "tags": []
   },
   "source": [
    "## Part 1: Packages and frameworks\n",
    "First we needto oinstall and import some Python packages. In this notebook we will us ePytorc  t oimplement a TabNe model. o interpret the variables and predict the **composite_score**."
   ]
  },
  {
   "cell_type": "code",
   "execution_count": 1,
   "id": "0c99045a",
   "metadata": {
    "execution": {
     "iopub.execute_input": "2024-11-29T22:07:46.295968Z",
     "iopub.status.busy": "2024-11-29T22:07:46.295563Z",
     "iopub.status.idle": "2024-11-29T22:07:55.747512Z",
     "shell.execute_reply": "2024-11-29T22:07:55.746524Z"
    },
    "papermill": {
     "duration": 9.460244,
     "end_time": "2024-11-29T22:07:55.749732",
     "exception": false,
     "start_time": "2024-11-29T22:07:46.289488",
     "status": "completed"
    },
    "tags": []
   },
   "outputs": [],
   "source": [
    "%%capture\n",
    "!pip install pytorch-tabnet"
   ]
  },
  {
   "cell_type": "code",
   "execution_count": 2,
   "id": "f3f79297",
   "metadata": {
    "execution": {
     "iopub.execute_input": "2024-11-29T22:07:55.761114Z",
     "iopub.status.busy": "2024-11-29T22:07:55.760839Z",
     "iopub.status.idle": "2024-11-29T22:08:00.594486Z",
     "shell.execute_reply": "2024-11-29T22:08:00.593526Z"
    },
    "papermill": {
     "duration": 4.841631,
     "end_time": "2024-11-29T22:08:00.596487",
     "exception": false,
     "start_time": "2024-11-29T22:07:55.754856",
     "status": "completed"
    },
    "tags": []
   },
   "outputs": [],
   "source": [
    "import json\n",
    "import torch\n",
    "import pandas as pd\n",
    "import numpy as np\n",
    "import matplotlib.pyplot as plt\n",
    "from sklearn.model_selection import train_test_split, GridSearchCV\n",
    "from sklearn.impute import SimpleImputer\n",
    "from sklearn.metrics import mean_squared_error\n",
    "from pytorch_tabnet.tab_model import TabNetRegressor\n",
    "from sklearn.preprocessing import LabelEncoder, StandardScaler"
   ]
  },
  {
   "cell_type": "markdown",
   "id": "8b2f4028",
   "metadata": {
    "papermill": {
     "duration": 0.004583,
     "end_time": "2024-11-29T22:08:00.605927",
     "exception": false,
     "start_time": "2024-11-29T22:08:00.601344",
     "status": "completed"
    },
    "tags": []
   },
   "source": [
    "## Part 2: Load data\n",
    "In this part we load and do some initial exploration of the data"
   ]
  },
  {
   "cell_type": "code",
   "execution_count": null,
   "id": "a769b925",
   "metadata": {
    "execution": {
     "iopub.execute_input": "2024-11-29T22:08:00.616434Z",
     "iopub.status.busy": "2024-11-29T22:08:00.615985Z",
     "iopub.status.idle": "2024-11-29T22:08:00.847251Z",
     "shell.execute_reply": "2024-11-29T22:08:00.846254Z"
    },
    "papermill": {
     "duration": 0.238889,
     "end_time": "2024-11-29T22:08:00.849335",
     "exception": false,
     "start_time": "2024-11-29T22:08:00.610446",
     "status": "completed"
    },
    "tags": []
   },
   "outputs": [],
   "source": [
    "# Load datasets\n",
    "train_features = pd.read_csv('/your/path/here/train_features.csv') # load train features\n",
    "train_labels = pd.read_csv('/your/path/here/train_labels.csv') # load train labels\n",
    "test_features = pd.read_csv('/your/path/here/test_features.csv') # loead test features\n",
    "submission_format = pd.read_csv('/your/path/here/submission_format.csv') # submission format"
   ]
  },
  {
   "cell_type": "code",
   "execution_count": 4,
   "id": "7e92be12",
   "metadata": {
    "execution": {
     "iopub.execute_input": "2024-11-29T22:08:00.860688Z",
     "iopub.status.busy": "2024-11-29T22:08:00.860406Z",
     "iopub.status.idle": "2024-11-29T22:08:00.865165Z",
     "shell.execute_reply": "2024-11-29T22:08:00.864334Z"
    },
    "papermill": {
     "duration": 0.012361,
     "end_time": "2024-11-29T22:08:00.866850",
     "exception": false,
     "start_time": "2024-11-29T22:08:00.854489",
     "status": "completed"
    },
    "tags": []
   },
   "outputs": [
    {
     "name": "stdout",
     "output_type": "stream",
     "text": [
      "In the training data we have 184 columns\n",
      "In the test data we have 184 columns\n"
     ]
    }
   ],
   "source": [
    "print(f\"In the training data we have \" + str(train_features.shape[1]) + \" columns\")\n",
    "print(f\"In the test data we have \" + str(test_features.shape[1]) + \" columns\")"
   ]
  },
  {
   "cell_type": "code",
   "execution_count": 5,
   "id": "335ee46d",
   "metadata": {
    "execution": {
     "iopub.execute_input": "2024-11-29T22:08:00.877428Z",
     "iopub.status.busy": "2024-11-29T22:08:00.877158Z",
     "iopub.status.idle": "2024-11-29T22:08:00.889403Z",
     "shell.execute_reply": "2024-11-29T22:08:00.888583Z"
    },
    "papermill": {
     "duration": 0.019512,
     "end_time": "2024-11-29T22:08:00.891103",
     "exception": false,
     "start_time": "2024-11-29T22:08:00.871591",
     "status": "completed"
    },
    "tags": []
   },
   "outputs": [
    {
     "name": "stdout",
     "output_type": "stream",
     "text": [
      "In the training data we have 3276 unique pasients and there are 3276 rows in the training data\n",
      "In the label data we have 3276 unique pasients and there are 4343 rows in the training data\n"
     ]
    }
   ],
   "source": [
    "print(f\"In the training data we have \" + str(train_features[\"uid\"].nunique()) + \" unique pasients and there are \" + str(train_features.shape[0]) + \" rows in the training data\")\n",
    "print(f\"In the label data we have \" + str(train_labels[\"uid\"].nunique()) + \" unique pasients and there are \" + str(train_labels.shape[0]) + \" rows in the training data\")"
   ]
  },
  {
   "cell_type": "markdown",
   "id": "c24d60d0",
   "metadata": {
    "papermill": {
     "duration": 0.004711,
     "end_time": "2024-11-29T22:08:00.900586",
     "exception": false,
     "start_time": "2024-11-29T22:08:00.895875",
     "status": "completed"
    },
    "tags": []
   },
   "source": [
    "We see that there are more rows in the label file than we have rows in the train features. This is because we want to estimate the composite score for 2016 (4 years in the future) and 2021 (9 years in the future) for some patients. This is also the cas for the test data:"
   ]
  },
  {
   "cell_type": "code",
   "execution_count": 6,
   "id": "25733ec5",
   "metadata": {
    "execution": {
     "iopub.execute_input": "2024-11-29T22:08:00.910940Z",
     "iopub.status.busy": "2024-11-29T22:08:00.910709Z",
     "iopub.status.idle": "2024-11-29T22:08:00.916112Z",
     "shell.execute_reply": "2024-11-29T22:08:00.915220Z"
    },
    "papermill": {
     "duration": 0.012569,
     "end_time": "2024-11-29T22:08:00.917899",
     "exception": false,
     "start_time": "2024-11-29T22:08:00.905330",
     "status": "completed"
    },
    "tags": []
   },
   "outputs": [
    {
     "name": "stdout",
     "output_type": "stream",
     "text": [
      "In the training data we have 819 unique pasients and there are 819 rows in the training data\n",
      "In the label data we have 819 unique pasients and there are 1105 rows in the training data\n"
     ]
    }
   ],
   "source": [
    "print(f\"In the training data we have \" + str(test_features[\"uid\"].nunique()) + \" unique pasients and there are \" + str(test_features.shape[0]) + \" rows in the training data\")\n",
    "print(f\"In the label data we have \" + str(submission_format[\"uid\"].nunique()) + \" unique pasients and there are \" + str(submission_format.shape[0]) + \" rows in the training data\")"
   ]
  },
  {
   "cell_type": "code",
   "execution_count": 7,
   "id": "f66c472c",
   "metadata": {
    "execution": {
     "iopub.execute_input": "2024-11-29T22:08:00.928302Z",
     "iopub.status.busy": "2024-11-29T22:08:00.928037Z",
     "iopub.status.idle": "2024-11-29T22:08:00.943888Z",
     "shell.execute_reply": "2024-11-29T22:08:00.943101Z"
    },
    "papermill": {
     "duration": 0.022837,
     "end_time": "2024-11-29T22:08:00.945403",
     "exception": false,
     "start_time": "2024-11-29T22:08:00.922566",
     "status": "completed"
    },
    "tags": []
   },
   "outputs": [
    {
     "data": {
      "text/plain": [
       "year\n",
       "False    2209\n",
       "True     1067\n",
       "Name: count, dtype: int64"
      ]
     },
     "execution_count": 7,
     "metadata": {},
     "output_type": "execute_result"
    }
   ],
   "source": [
    "# Count number of patinents with composite score at both 2016 and 2021 in the training data\n",
    "(train_labels.groupby(\"uid\").count()[\"year\"] == 2).value_counts()"
   ]
  },
  {
   "cell_type": "code",
   "execution_count": 8,
   "id": "bdbda68a",
   "metadata": {
    "execution": {
     "iopub.execute_input": "2024-11-29T22:08:00.956057Z",
     "iopub.status.busy": "2024-11-29T22:08:00.955838Z",
     "iopub.status.idle": "2024-11-29T22:08:00.963377Z",
     "shell.execute_reply": "2024-11-29T22:08:00.962733Z"
    },
    "papermill": {
     "duration": 0.014587,
     "end_time": "2024-11-29T22:08:00.964850",
     "exception": false,
     "start_time": "2024-11-29T22:08:00.950263",
     "status": "completed"
    },
    "tags": []
   },
   "outputs": [
    {
     "data": {
      "text/plain": [
       "year\n",
       "False    533\n",
       "True     286\n",
       "Name: count, dtype: int64"
      ]
     },
     "execution_count": 8,
     "metadata": {},
     "output_type": "execute_result"
    }
   ],
   "source": [
    "# Count number of patinents we need to predict composite for both 2016 and 2021 in the test data\n",
    "(submission_format.groupby(\"uid\").count()[\"year\"] == 2).value_counts()"
   ]
  },
  {
   "cell_type": "markdown",
   "id": "ee899610",
   "metadata": {
    "papermill": {
     "duration": 0.004732,
     "end_time": "2024-11-29T22:08:00.974557",
     "exception": false,
     "start_time": "2024-11-29T22:08:00.969825",
     "status": "completed"
    },
    "tags": []
   },
   "source": [
    "Exploring missing values"
   ]
  },
  {
   "cell_type": "code",
   "execution_count": 9,
   "id": "90b8d818",
   "metadata": {
    "execution": {
     "iopub.execute_input": "2024-11-29T22:08:00.985560Z",
     "iopub.status.busy": "2024-11-29T22:08:00.985309Z",
     "iopub.status.idle": "2024-11-29T22:08:00.998619Z",
     "shell.execute_reply": "2024-11-29T22:08:00.997821Z"
    },
    "papermill": {
     "duration": 0.020612,
     "end_time": "2024-11-29T22:08:01.000310",
     "exception": false,
     "start_time": "2024-11-29T22:08:00.979698",
     "status": "completed"
    },
    "tags": []
   },
   "outputs": [
    {
     "data": {
      "text/plain": [
       "True     182\n",
       "False      2\n",
       "Name: count, dtype: int64"
      ]
     },
     "execution_count": 9,
     "metadata": {},
     "output_type": "execute_result"
    }
   ],
   "source": [
    "# How many columns have at least one missing value (training data)\n",
    "(train_features.isna().sum() != 0).value_counts()"
   ]
  },
  {
   "cell_type": "code",
   "execution_count": 10,
   "id": "9fb4c4f1",
   "metadata": {
    "execution": {
     "iopub.execute_input": "2024-11-29T22:08:01.011293Z",
     "iopub.status.busy": "2024-11-29T22:08:01.011014Z",
     "iopub.status.idle": "2024-11-29T22:08:01.019565Z",
     "shell.execute_reply": "2024-11-29T22:08:01.018771Z"
    },
    "papermill": {
     "duration": 0.015671,
     "end_time": "2024-11-29T22:08:01.021077",
     "exception": false,
     "start_time": "2024-11-29T22:08:01.005406",
     "status": "completed"
    },
    "tags": []
   },
   "outputs": [
    {
     "data": {
      "text/plain": [
       "True     182\n",
       "False      2\n",
       "Name: count, dtype: int64"
      ]
     },
     "execution_count": 10,
     "metadata": {},
     "output_type": "execute_result"
    }
   ],
   "source": [
    "# How many columns have at least one missing value (test data)\n",
    "(test_features.isna().sum() != 0).value_counts()"
   ]
  },
  {
   "cell_type": "code",
   "execution_count": 11,
   "id": "6038264e",
   "metadata": {
    "execution": {
     "iopub.execute_input": "2024-11-29T22:08:01.032255Z",
     "iopub.status.busy": "2024-11-29T22:08:01.031978Z",
     "iopub.status.idle": "2024-11-29T22:08:01.043718Z",
     "shell.execute_reply": "2024-11-29T22:08:01.042957Z"
    },
    "papermill": {
     "duration": 0.01917,
     "end_time": "2024-11-29T22:08:01.045515",
     "exception": false,
     "start_time": "2024-11-29T22:08:01.026345",
     "status": "completed"
    },
    "tags": []
   },
   "outputs": [
    {
     "data": {
      "text/plain": [
       "22.45"
      ]
     },
     "execution_count": 11,
     "metadata": {},
     "output_type": "execute_result"
    }
   ],
   "source": [
    "round((train_features.isna().sum().sum() / (train_features.shape[0]*train_features.shape[1]))*100,2)"
   ]
  },
  {
   "cell_type": "code",
   "execution_count": 12,
   "id": "7a207c93",
   "metadata": {
    "execution": {
     "iopub.execute_input": "2024-11-29T22:08:01.057177Z",
     "iopub.status.busy": "2024-11-29T22:08:01.056657Z",
     "iopub.status.idle": "2024-11-29T22:08:01.067372Z",
     "shell.execute_reply": "2024-11-29T22:08:01.066584Z"
    },
    "papermill": {
     "duration": 0.018245,
     "end_time": "2024-11-29T22:08:01.068941",
     "exception": false,
     "start_time": "2024-11-29T22:08:01.050696",
     "status": "completed"
    },
    "tags": []
   },
   "outputs": [
    {
     "name": "stdout",
     "output_type": "stream",
     "text": [
      "In total there are 22.45 % missing values in the training data\n"
     ]
    }
   ],
   "source": [
    "print(\"In total there are \" + str(round((train_features.isna().sum().sum() / (train_features.shape[0]*train_features.shape[1]))*100,2)) + \" % missing values in the training data\")"
   ]
  },
  {
   "cell_type": "code",
   "execution_count": 13,
   "id": "cc275ce6",
   "metadata": {
    "execution": {
     "iopub.execute_input": "2024-11-29T22:08:01.079896Z",
     "iopub.status.busy": "2024-11-29T22:08:01.079678Z",
     "iopub.status.idle": "2024-11-29T22:08:01.087047Z",
     "shell.execute_reply": "2024-11-29T22:08:01.086092Z"
    },
    "papermill": {
     "duration": 0.014668,
     "end_time": "2024-11-29T22:08:01.088667",
     "exception": false,
     "start_time": "2024-11-29T22:08:01.073999",
     "status": "completed"
    },
    "tags": []
   },
   "outputs": [
    {
     "name": "stdout",
     "output_type": "stream",
     "text": [
      "In total there are 21.92 % missing values in the test data\n"
     ]
    }
   ],
   "source": [
    "print(\"In total there are \" + str(round((test_features.isna().sum().sum() / (test_features.shape[0]*test_features.shape[1]))*100,2)) + \" % missing values in the test data\")"
   ]
  },
  {
   "cell_type": "markdown",
   "id": "3401bae8",
   "metadata": {
    "papermill": {
     "duration": 0.005064,
     "end_time": "2024-11-29T22:08:01.098962",
     "exception": false,
     "start_time": "2024-11-29T22:08:01.093898",
     "status": "completed"
    },
    "tags": []
   },
   "source": [
    "## Part 3: Preprocessing\n",
    "In this part we preprocess the data based on our findings in part 2"
   ]
  },
  {
   "cell_type": "code",
   "execution_count": 14,
   "id": "ad4104e7",
   "metadata": {
    "execution": {
     "iopub.execute_input": "2024-11-29T22:08:01.110143Z",
     "iopub.status.busy": "2024-11-29T22:08:01.109878Z",
     "iopub.status.idle": "2024-11-29T22:08:01.131323Z",
     "shell.execute_reply": "2024-11-29T22:08:01.130621Z"
    },
    "papermill": {
     "duration": 0.02925,
     "end_time": "2024-11-29T22:08:01.133232",
     "exception": false,
     "start_time": "2024-11-29T22:08:01.103982",
     "status": "completed"
    },
    "tags": []
   },
   "outputs": [],
   "source": [
    "# duplicate features where we need to estimate composite score for both 2016 and 2021 (training data)\n",
    "train_data = train_labels.merge(train_features, on=\"uid\")\n",
    "train_data[\"pred_year\"] = train_data[\"year\"]-2012"
   ]
  },
  {
   "cell_type": "code",
   "execution_count": 15,
   "id": "dc2bceba",
   "metadata": {
    "execution": {
     "iopub.execute_input": "2024-11-29T22:08:01.145798Z",
     "iopub.status.busy": "2024-11-29T22:08:01.145514Z",
     "iopub.status.idle": "2024-11-29T22:08:01.154497Z",
     "shell.execute_reply": "2024-11-29T22:08:01.153891Z"
    },
    "papermill": {
     "duration": 0.016586,
     "end_time": "2024-11-29T22:08:01.155939",
     "exception": false,
     "start_time": "2024-11-29T22:08:01.139353",
     "status": "completed"
    },
    "tags": []
   },
   "outputs": [],
   "source": [
    "# duplicate features where we need to estimate composite score for both 2016 and 2021 (test data)\n",
    "aligned_test_features = submission_format[[\"uid\",\"year\"]].merge(test_features, on=\"uid\")\n",
    "aligned_test_features[\"pred_year\"] = aligned_test_features[\"year\"]-2012"
   ]
  },
  {
   "cell_type": "code",
   "execution_count": 16,
   "id": "0b9f510e",
   "metadata": {
    "execution": {
     "iopub.execute_input": "2024-11-29T22:08:01.169497Z",
     "iopub.status.busy": "2024-11-29T22:08:01.169244Z",
     "iopub.status.idle": "2024-11-29T22:08:01.177570Z",
     "shell.execute_reply": "2024-11-29T22:08:01.176663Z"
    },
    "papermill": {
     "duration": 0.017887,
     "end_time": "2024-11-29T22:08:01.179122",
     "exception": false,
     "start_time": "2024-11-29T22:08:01.161235",
     "status": "completed"
    },
    "tags": []
   },
   "outputs": [],
   "source": [
    "# Separate features and target variable\n",
    "X = train_data.drop(columns=['uid', 'year', 'composite_score'])\n",
    "y = train_data['composite_score']"
   ]
  },
  {
   "cell_type": "code",
   "execution_count": 17,
   "id": "48fc9ca6",
   "metadata": {
    "execution": {
     "iopub.execute_input": "2024-11-29T22:08:01.190869Z",
     "iopub.status.busy": "2024-11-29T22:08:01.190618Z",
     "iopub.status.idle": "2024-11-29T22:08:01.194238Z",
     "shell.execute_reply": "2024-11-29T22:08:01.193614Z"
    },
    "papermill": {
     "duration": 0.011173,
     "end_time": "2024-11-29T22:08:01.195704",
     "exception": false,
     "start_time": "2024-11-29T22:08:01.184531",
     "status": "completed"
    },
    "tags": []
   },
   "outputs": [],
   "source": [
    "# Handle missing values\n",
    "num_imputer = SimpleImputer(strategy='mean')\n",
    "cat_imputer = SimpleImputer(strategy='most_frequent')"
   ]
  },
  {
   "cell_type": "code",
   "execution_count": 18,
   "id": "3ae478bb",
   "metadata": {
    "execution": {
     "iopub.execute_input": "2024-11-29T22:08:01.207010Z",
     "iopub.status.busy": "2024-11-29T22:08:01.206762Z",
     "iopub.status.idle": "2024-11-29T22:08:01.215579Z",
     "shell.execute_reply": "2024-11-29T22:08:01.214475Z"
    },
    "papermill": {
     "duration": 0.016404,
     "end_time": "2024-11-29T22:08:01.217274",
     "exception": false,
     "start_time": "2024-11-29T22:08:01.200870",
     "status": "completed"
    },
    "tags": []
   },
   "outputs": [],
   "source": [
    "# Select numerical and categorical columns\n",
    "num_cols = X.select_dtypes(include=['float64', 'int64']).columns\n",
    "cat_cols = X.select_dtypes(include=['object']).columns"
   ]
  },
  {
   "cell_type": "code",
   "execution_count": 19,
   "id": "2997e66e",
   "metadata": {
    "execution": {
     "iopub.execute_input": "2024-11-29T22:08:01.229035Z",
     "iopub.status.busy": "2024-11-29T22:08:01.228778Z",
     "iopub.status.idle": "2024-11-29T22:08:01.307158Z",
     "shell.execute_reply": "2024-11-29T22:08:01.305897Z"
    },
    "papermill": {
     "duration": 0.087601,
     "end_time": "2024-11-29T22:08:01.310489",
     "exception": false,
     "start_time": "2024-11-29T22:08:01.222888",
     "status": "completed"
    },
    "tags": []
   },
   "outputs": [],
   "source": [
    "# Impute training features\n",
    "X[num_cols] = num_imputer.fit_transform(X[num_cols])\n",
    "X[cat_cols] = cat_imputer.fit_transform(X[cat_cols])"
   ]
  },
  {
   "cell_type": "code",
   "execution_count": 20,
   "id": "c1304eec",
   "metadata": {
    "execution": {
     "iopub.execute_input": "2024-11-29T22:08:01.326767Z",
     "iopub.status.busy": "2024-11-29T22:08:01.326468Z",
     "iopub.status.idle": "2024-11-29T22:08:01.383223Z",
     "shell.execute_reply": "2024-11-29T22:08:01.382474Z"
    },
    "papermill": {
     "duration": 0.065031,
     "end_time": "2024-11-29T22:08:01.384861",
     "exception": false,
     "start_time": "2024-11-29T22:08:01.319830",
     "status": "completed"
    },
    "tags": []
   },
   "outputs": [],
   "source": [
    "# Encode categorical variables\n",
    "label_encoders = {}\n",
    "for col in cat_cols:\n",
    "    le = LabelEncoder()\n",
    "    X[col] = le.fit_transform(X[col])\n",
    "    label_encoders[col] = le"
   ]
  },
  {
   "cell_type": "code",
   "execution_count": 21,
   "id": "f68f417e",
   "metadata": {
    "execution": {
     "iopub.execute_input": "2024-11-29T22:08:01.397058Z",
     "iopub.status.busy": "2024-11-29T22:08:01.396785Z",
     "iopub.status.idle": "2024-11-29T22:08:01.415055Z",
     "shell.execute_reply": "2024-11-29T22:08:01.414248Z"
    },
    "papermill": {
     "duration": 0.026212,
     "end_time": "2024-11-29T22:08:01.416789",
     "exception": false,
     "start_time": "2024-11-29T22:08:01.390577",
     "status": "completed"
    },
    "tags": []
   },
   "outputs": [],
   "source": [
    "# Split data into training and validation sets\n",
    "X_train, X_val, y_train, y_val = train_test_split(X, y, test_size=0.2, random_state=42)"
   ]
  },
  {
   "cell_type": "markdown",
   "id": "9227dc99",
   "metadata": {
    "papermill": {
     "duration": 0.005077,
     "end_time": "2024-11-29T22:08:01.427396",
     "exception": false,
     "start_time": "2024-11-29T22:08:01.422319",
     "status": "completed"
    },
    "tags": []
   },
   "source": [
    "## Part 4: Initialize model and start training\n",
    "Here we initialize our TabNet model and start the training. We continously validate our model on the validation set for each epoch"
   ]
  },
  {
   "cell_type": "code",
   "execution_count": 22,
   "id": "19224861",
   "metadata": {
    "execution": {
     "iopub.execute_input": "2024-11-29T22:08:01.438978Z",
     "iopub.status.busy": "2024-11-29T22:08:01.438706Z",
     "iopub.status.idle": "2024-11-29T22:08:12.689561Z",
     "shell.execute_reply": "2024-11-29T22:08:12.688288Z"
    },
    "papermill": {
     "duration": 11.25888,
     "end_time": "2024-11-29T22:08:12.691463",
     "exception": false,
     "start_time": "2024-11-29T22:08:01.432583",
     "status": "completed"
    },
    "tags": []
   },
   "outputs": [
    {
     "name": "stderr",
     "output_type": "stream",
     "text": [
      "/opt/conda/lib/python3.10/site-packages/pytorch_tabnet/abstract_model.py:82: UserWarning: Device used : cuda\n",
      "  warnings.warn(f\"Device used : {self.device}\")\n"
     ]
    },
    {
     "name": "stdout",
     "output_type": "stream",
     "text": [
      "epoch 0  | loss: 28359.95433| val_0_rmse: 166.67525| val_1_rmse: 165.28185|  0:00:01s\n",
      "epoch 1  | loss: 26936.07527| val_0_rmse: 137.5387| val_1_rmse: 136.61888|  0:00:01s\n",
      "epoch 2  | loss: 24761.41692| val_0_rmse: 147.10145| val_1_rmse: 145.39498|  0:00:02s\n",
      "epoch 3  | loss: 21441.0284| val_0_rmse: 125.61941| val_1_rmse: 123.78711|  0:00:02s\n",
      "epoch 4  | loss: 16988.70267| val_0_rmse: 114.22674| val_1_rmse: 112.94602|  0:00:03s\n",
      "epoch 5  | loss: 11916.67142| val_0_rmse: 64.31498| val_1_rmse: 64.29111|  0:00:03s\n",
      "epoch 6  | loss: 7146.25139| val_0_rmse: 60.05406| val_1_rmse: 58.37576|  0:00:04s\n",
      "epoch 7  | loss: 3719.27575| val_0_rmse: 428.86471| val_1_rmse: 428.66333|  0:00:04s\n",
      "epoch 8  | loss: 2576.53382| val_0_rmse: 381.05859| val_1_rmse: 381.39976|  0:00:05s\n",
      "epoch 9  | loss: 2373.22388| val_0_rmse: 195.33206| val_1_rmse: 194.99814|  0:00:05s\n",
      "epoch 10 | loss: 2187.60503| val_0_rmse: 71.73982| val_1_rmse: 66.30959|  0:00:06s\n",
      "epoch 11 | loss: 2113.75499| val_0_rmse: 61.04225| val_1_rmse: 58.39883|  0:00:06s\n",
      "epoch 12 | loss: 2030.56289| val_0_rmse: 61.36031| val_1_rmse: 59.39143|  0:00:07s\n",
      "epoch 13 | loss: 1907.09814| val_0_rmse: 65.02039| val_1_rmse: 62.42281|  0:00:08s\n",
      "epoch 14 | loss: 1891.23638| val_0_rmse: 64.83483| val_1_rmse: 62.22773|  0:00:08s\n",
      "epoch 15 | loss: 1781.0296| val_0_rmse: 97.63832| val_1_rmse: 97.25994|  0:00:09s\n",
      "epoch 16 | loss: 1718.13057| val_0_rmse: 219.3551| val_1_rmse: 220.2476|  0:00:09s\n",
      "\n",
      "Early stopping occurred at epoch 16 with best_epoch = 6 and best_val_1_rmse = 58.37576\n"
     ]
    },
    {
     "name": "stderr",
     "output_type": "stream",
     "text": [
      "/opt/conda/lib/python3.10/site-packages/pytorch_tabnet/callbacks.py:172: UserWarning: Best weights from best epoch are automatically used!\n",
      "  warnings.warn(wrn_msg)\n"
     ]
    },
    {
     "name": "stdout",
     "output_type": "stream",
     "text": [
      "Validation RMSE: 58.37576111073713\n"
     ]
    }
   ],
   "source": [
    "# Initialize TabNet\n",
    "tabnet = TabNetRegressor()\n",
    "\n",
    "# Train TabNet\n",
    "tabnet.fit(\n",
    "    X_train.values, np.asarray(y_train).reshape(-1, 1),\n",
    "    eval_set=[(X_train.values, np.asarray(y_train).reshape(-1, 1)), (X_val.values, np.asarray(y_val).reshape(-1, 1))],\n",
    "    eval_metric=['rmse'],\n",
    "    max_epochs=100,\n",
    "    patience=10,\n",
    "    batch_size=256,\n",
    "    virtual_batch_size=128\n",
    ")\n",
    "\n",
    "# Predictions and evaluation\n",
    "predictions = tabnet.predict(X_val.values)\n",
    "print('Validation RMSE:', np.sqrt(mean_squared_error(np.asarray(y_val).reshape(-1, 1), predictions)))"
   ]
  },
  {
   "cell_type": "code",
   "execution_count": 23,
   "id": "49a6808d",
   "metadata": {
    "execution": {
     "iopub.execute_input": "2024-11-29T22:08:12.705768Z",
     "iopub.status.busy": "2024-11-29T22:08:12.705296Z",
     "iopub.status.idle": "2024-11-29T22:08:38.244830Z",
     "shell.execute_reply": "2024-11-29T22:08:38.243882Z"
    },
    "papermill": {
     "duration": 25.549375,
     "end_time": "2024-11-29T22:08:38.247330",
     "exception": false,
     "start_time": "2024-11-29T22:08:12.697955",
     "status": "completed"
    },
    "tags": []
   },
   "outputs": [
    {
     "name": "stderr",
     "output_type": "stream",
     "text": [
      "/opt/conda/lib/python3.10/site-packages/pytorch_tabnet/abstract_model.py:82: UserWarning: Device used : cuda\n",
      "  warnings.warn(f\"Device used : {self.device}\")\n"
     ]
    },
    {
     "name": "stdout",
     "output_type": "stream",
     "text": [
      "epoch 0  | loss: 27922.88525| val_0_rmse: 264.11093|  0:00:00s\n",
      "epoch 1  | loss: 26022.98462| val_0_rmse: 156.94842|  0:00:01s\n",
      "epoch 2  | loss: 22852.02246| val_0_rmse: 143.31492|  0:00:01s\n",
      "epoch 3  | loss: 17535.14587| val_0_rmse: 116.3263|  0:00:02s\n",
      "epoch 4  | loss: 11462.24423| val_0_rmse: 87.74657|  0:00:02s\n",
      "epoch 5  | loss: 5793.24109| val_0_rmse: 62.89397|  0:00:03s\n",
      "epoch 6  | loss: 2994.51752| val_0_rmse: 61.40496|  0:00:03s\n",
      "epoch 7  | loss: 2523.89862| val_0_rmse: 57.29636|  0:00:04s\n",
      "epoch 8  | loss: 2391.05067| val_0_rmse: 60.09168|  0:00:05s\n",
      "epoch 9  | loss: 2223.51469| val_0_rmse: 60.79312|  0:00:05s\n",
      "epoch 10 | loss: 2146.12557| val_0_rmse: 59.32807|  0:00:06s\n",
      "epoch 11 | loss: 2123.29388| val_0_rmse: 60.72531|  0:00:06s\n",
      "epoch 12 | loss: 1968.39115| val_0_rmse: 56.27555|  0:00:07s\n",
      "epoch 13 | loss: 1962.16911| val_0_rmse: 51.4107 |  0:00:07s\n",
      "epoch 14 | loss: 1891.6561| val_0_rmse: 50.1372 |  0:00:08s\n",
      "epoch 15 | loss: 1874.98175| val_0_rmse: 52.09332|  0:00:09s\n",
      "epoch 16 | loss: 1817.39972| val_0_rmse: 53.1573 |  0:00:09s\n",
      "epoch 17 | loss: 1785.23266| val_0_rmse: 126.58482|  0:00:10s\n",
      "epoch 18 | loss: 1805.05212| val_0_rmse: 56.76334|  0:00:10s\n",
      "epoch 19 | loss: 1796.62231| val_0_rmse: 53.19682|  0:00:11s\n",
      "epoch 20 | loss: 1746.47601| val_0_rmse: 52.64537|  0:00:11s\n",
      "epoch 21 | loss: 1682.20288| val_0_rmse: 52.1374 |  0:00:12s\n",
      "epoch 22 | loss: 1680.91727| val_0_rmse: 50.37115|  0:00:12s\n",
      "epoch 23 | loss: 1707.33557| val_0_rmse: 46.95156|  0:00:13s\n",
      "epoch 24 | loss: 1652.47932| val_0_rmse: 46.26443|  0:00:14s\n",
      "epoch 25 | loss: 1618.16493| val_0_rmse: 44.87234|  0:00:14s\n",
      "epoch 26 | loss: 1605.9994| val_0_rmse: 43.10869|  0:00:15s\n",
      "epoch 27 | loss: 1610.72034| val_0_rmse: 41.7249 |  0:00:15s\n",
      "epoch 28 | loss: 1591.79564| val_0_rmse: 39.48308|  0:00:16s\n",
      "epoch 29 | loss: 1525.32842| val_0_rmse: 39.89454|  0:00:16s\n",
      "epoch 30 | loss: 1500.83632| val_0_rmse: 39.15773|  0:00:17s\n",
      "epoch 31 | loss: 1478.31622| val_0_rmse: 38.31623|  0:00:17s\n",
      "epoch 32 | loss: 1490.18905| val_0_rmse: 37.67943|  0:00:18s\n",
      "epoch 33 | loss: 1428.21976| val_0_rmse: 37.18068|  0:00:19s\n",
      "epoch 34 | loss: 1438.30483| val_0_rmse: 36.98584|  0:00:19s\n",
      "epoch 35 | loss: 1423.66105| val_0_rmse: 36.83104|  0:00:20s\n",
      "epoch 36 | loss: 1372.33401| val_0_rmse: 35.8273 |  0:00:20s\n",
      "epoch 37 | loss: 1327.60407| val_0_rmse: 34.86259|  0:00:21s\n",
      "epoch 38 | loss: 1278.59056| val_0_rmse: 34.49995|  0:00:21s\n",
      "epoch 39 | loss: 1265.21521| val_0_rmse: 34.22183|  0:00:22s\n",
      "epoch 40 | loss: 1226.60964| val_0_rmse: 33.80813|  0:00:22s\n",
      "epoch 41 | loss: 1218.38622| val_0_rmse: 33.73738|  0:00:23s\n",
      "epoch 42 | loss: 1203.08197| val_0_rmse: 33.33306|  0:00:24s\n",
      "epoch 43 | loss: 1160.84422| val_0_rmse: 33.97881|  0:00:24s\n",
      "epoch 44 | loss: 1164.44392| val_0_rmse: 33.55214|  0:00:25s\n",
      "Stop training because you reached max_epochs = 45 with best_epoch = 42 and best_val_0_rmse = 33.33306\n"
     ]
    },
    {
     "name": "stderr",
     "output_type": "stream",
     "text": [
      "/opt/conda/lib/python3.10/site-packages/pytorch_tabnet/callbacks.py:172: UserWarning: Best weights from best epoch are automatically used!\n",
      "  warnings.warn(wrn_msg)\n"
     ]
    }
   ],
   "source": [
    "# Train a final model using hyperparameters (use best epoch from previuos cell) and all development data (train+val)\n",
    "final_model = TabNetRegressor()\n",
    "\n",
    "# Train TabNet\n",
    "final_model.fit(\n",
    "    X.values, np.asarray(y).reshape(-1, 1),\n",
    "    eval_set=[(X.values, np.asarray(y).reshape(-1, 1))],\n",
    "    max_epochs=45,\n",
    "    batch_size=256,\n",
    "    virtual_batch_size=128,\n",
    "    eval_metric=['rmse'],\n",
    ")"
   ]
  },
  {
   "cell_type": "markdown",
   "id": "2821a125",
   "metadata": {
    "papermill": {
     "duration": 0.00867,
     "end_time": "2024-11-29T22:08:38.268497",
     "exception": false,
     "start_time": "2024-11-29T22:08:38.259827",
     "status": "completed"
    },
    "tags": []
   },
   "source": [
    "## Part 5: Inference and submission\n",
    "Prepare test data for inference, do inference and save the estimations to a submission file "
   ]
  },
  {
   "cell_type": "code",
   "execution_count": 24,
   "id": "8e1220c6",
   "metadata": {
    "execution": {
     "iopub.execute_input": "2024-11-29T22:08:38.286554Z",
     "iopub.status.busy": "2024-11-29T22:08:38.286244Z",
     "iopub.status.idle": "2024-11-29T22:08:38.337026Z",
     "shell.execute_reply": "2024-11-29T22:08:38.336322Z"
    },
    "papermill": {
     "duration": 0.062314,
     "end_time": "2024-11-29T22:08:38.338930",
     "exception": false,
     "start_time": "2024-11-29T22:08:38.276616",
     "status": "completed"
    },
    "tags": []
   },
   "outputs": [],
   "source": [
    "# Impute missing values in test data\n",
    "aligned_test_features[num_cols] = num_imputer.transform(aligned_test_features[num_cols])\n",
    "aligned_test_features[cat_cols] = cat_imputer.transform(aligned_test_features[cat_cols])\n",
    "\n",
    "# Encode categorical variables in test data\n",
    "for col in cat_cols:\n",
    "    aligned_test_features[col] = label_encoders[col].transform(aligned_test_features[col])\n",
    "\n",
    "# Drop year and id from input features\n",
    "X_aligned_test = aligned_test_features.drop(columns=['uid','year'])"
   ]
  },
  {
   "cell_type": "code",
   "execution_count": 25,
   "id": "14087729",
   "metadata": {
    "execution": {
     "iopub.execute_input": "2024-11-29T22:08:38.357040Z",
     "iopub.status.busy": "2024-11-29T22:08:38.356757Z",
     "iopub.status.idle": "2024-11-29T22:08:38.417229Z",
     "shell.execute_reply": "2024-11-29T22:08:38.416495Z"
    },
    "papermill": {
     "duration": 0.07147,
     "end_time": "2024-11-29T22:08:38.419237",
     "exception": false,
     "start_time": "2024-11-29T22:08:38.347767",
     "status": "completed"
    },
    "tags": []
   },
   "outputs": [],
   "source": [
    "# Predict on the aligned test dataset\n",
    "aligned_test_predictions = final_model.predict(X_aligned_test.values)"
   ]
  },
  {
   "cell_type": "code",
   "execution_count": 26,
   "id": "45fa0d40",
   "metadata": {
    "execution": {
     "iopub.execute_input": "2024-11-29T22:08:38.437744Z",
     "iopub.status.busy": "2024-11-29T22:08:38.437445Z",
     "iopub.status.idle": "2024-11-29T22:08:38.447069Z",
     "shell.execute_reply": "2024-11-29T22:08:38.446018Z"
    },
    "papermill": {
     "duration": 0.020739,
     "end_time": "2024-11-29T22:08:38.448977",
     "exception": false,
     "start_time": "2024-11-29T22:08:38.428238",
     "status": "completed"
    },
    "tags": []
   },
   "outputs": [
    {
     "name": "stdout",
     "output_type": "stream",
     "text": [
      "Submission file saved to: submission.csv\n"
     ]
    }
   ],
   "source": [
    "# Prepare the submission file\n",
    "submission = submission_format.copy()\n",
    "submission['composite_score'] = aligned_test_predictions.round().astype(int)\n",
    "\n",
    "# Save the submission file\n",
    "submission_file_path = 'submission.csv'\n",
    "submission.to_csv(submission_file_path, index=False)\n",
    "print(f\"Submission file saved to: {submission_file_path}\")"
   ]
  },
  {
   "cell_type": "markdown",
   "id": "5cf7edc1",
   "metadata": {
    "papermill": {
     "duration": 0.008701,
     "end_time": "2024-11-29T22:08:38.469994",
     "exception": false,
     "start_time": "2024-11-29T22:08:38.461293",
     "status": "completed"
    },
    "tags": []
   },
   "source": [
    "## References\n",
    "[1] [TabNet: Attentive Interpretable Tabular Learning](https://arxiv.org/abs/1908.07442)"
   ]
  }
 ],
 "metadata": {
  "kaggle": {
   "accelerator": "none",
   "dataSources": [
    {
     "datasetId": 6122982,
     "sourceId": 9955632,
     "sourceType": "datasetVersion"
    }
   ],
   "dockerImageVersionId": 30786,
   "isGpuEnabled": false,
   "isInternetEnabled": true,
   "language": "python",
   "sourceType": "notebook"
  },
  "kernelspec": {
   "display_name": "Python 3",
   "language": "python",
   "name": "python3"
  },
  "language_info": {
   "codemirror_mode": {
    "name": "ipython",
    "version": 3
   },
   "file_extension": ".py",
   "mimetype": "text/x-python",
   "name": "python",
   "nbconvert_exporter": "python",
   "pygments_lexer": "ipython3",
   "version": "3.10.14"
  },
  "papermill": {
   "default_parameters": {},
   "duration": 56.136563,
   "end_time": "2024-11-29T22:08:39.899641",
   "environment_variables": {},
   "exception": null,
   "input_path": "__notebook__.ipynb",
   "output_path": "__notebook__.ipynb",
   "parameters": {},
   "start_time": "2024-11-29T22:07:43.763078",
   "version": "2.6.0"
  }
 },
 "nbformat": 4,
 "nbformat_minor": 5
}
